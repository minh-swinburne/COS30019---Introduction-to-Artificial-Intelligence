{
 "cells": [
  {
   "cell_type": "code",
   "execution_count": 1,
   "id": "f0ebb379-2ec5-4d26-beec-7d6635444b4b",
   "metadata": {},
   "outputs": [
    {
     "name": "stdout",
     "output_type": "stream",
     "text": [
      "Bruh\n"
     ]
    }
   ],
   "source": [
    "print(\"Bruh\")"
   ]
  },
  {
   "cell_type": "code",
   "execution_count": 3,
   "id": "9a9663e1-f88b-49d2-b0c7-a8b3c09108ac",
   "metadata": {},
   "outputs": [],
   "source": [
    "i = 1"
   ]
  },
  {
   "cell_type": "code",
   "execution_count": 7,
   "id": "da2fab20-9175-411a-a2f1-fbaa4e370694",
   "metadata": {},
   "outputs": [],
   "source": [
    "i += 1"
   ]
  },
  {
   "cell_type": "code",
   "execution_count": 8,
   "id": "29b2d9c8-6893-4473-8678-01c5da196ec8",
   "metadata": {},
   "outputs": [
    {
     "name": "stdout",
     "output_type": "stream",
     "text": [
      "3\n"
     ]
    }
   ],
   "source": [
    "print(i)"
   ]
  },
  {
   "cell_type": "code",
   "execution_count": null,
   "id": "8ab615f4-8d46-40ca-aa57-01bbeeb94ee4",
   "metadata": {},
   "outputs": [],
   "source": []
  }
 ],
 "metadata": {
  "kernelspec": {
   "display_name": "Python 3 (ipykernel)",
   "language": "python",
   "name": "python3"
  },
  "language_info": {
   "codemirror_mode": {
    "name": "ipython",
    "version": 3
   },
   "file_extension": ".py",
   "mimetype": "text/x-python",
   "name": "python",
   "nbconvert_exporter": "python",
   "pygments_lexer": "ipython3",
   "version": "3.12.0"
  }
 },
 "nbformat": 4,
 "nbformat_minor": 5
}
