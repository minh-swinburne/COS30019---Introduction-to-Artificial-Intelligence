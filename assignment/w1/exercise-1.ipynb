{
 "cells": [
  {
   "cell_type": "code",
   "execution_count": 9,
   "metadata": {},
   "outputs": [
    {
     "name": "stdout",
     "output_type": "stream",
     "text": [
      "City: Melbourne\n",
      "  - Sydney: 878 (Actual Distance) - 713 (Shortest Distance)\n",
      "  - Brisbane: -1 (Actual Distance) - 1374 (Shortest Distance)\n",
      "City: Brisbane\n",
      "  - Newcastle: 780 (Actual Distance) - 618 (Shortest Distance)\n"
     ]
    }
   ],
   "source": [
    "filename = 'cities.txt'\n",
    "cities = {}\n",
    "with open(filename) as file:\n",
    "  for line in file:\n",
    "    from_city, to_city, act_dist, short_dist = line.strip().split()\n",
    "    city = cities.get(from_city, [])\n",
    "    city.append((to_city, eval(act_dist), eval(short_dist)))\n",
    "    cities[from_city] = city\n",
    "for city, dests in cities.items():\n",
    "  print('City:', city)\n",
    "  for dest in dests:\n",
    "    print(f'  - {dest[0]}: {dest[1]} (Actual Distance) - {dest[2]} (Shortest Distance)')"
   ]
  }
 ],
 "metadata": {
  "kernelspec": {
   "display_name": "Python 3",
   "language": "python",
   "name": "python3"
  },
  "language_info": {
   "codemirror_mode": {
    "name": "ipython",
    "version": 3
   },
   "file_extension": ".py",
   "mimetype": "text/x-python",
   "name": "python",
   "nbconvert_exporter": "python",
   "pygments_lexer": "ipython3",
   "version": "3.12.0"
  }
 },
 "nbformat": 4,
 "nbformat_minor": 2
}
